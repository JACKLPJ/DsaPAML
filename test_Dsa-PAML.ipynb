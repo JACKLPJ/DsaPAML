{
 "cells": [
  {
   "cell_type": "code",
   "execution_count": 1,
   "id": "d4b2cf36",
   "metadata": {},
   "outputs": [],
   "source": [
    "import torch \n",
    "from DualAutoEncoder4_norm import DualAutoEncoder\n",
    "from sklearn.model_selection import train_test_split\n",
    "from sklearn.metrics import accuracy_score\n",
    "import pandas as pd\n",
    "import AutoML_fea_recd as aml\n",
    "import time \n",
    "import sklearn"
   ]
  },
  {
   "cell_type": "code",
   "execution_count": 2,
   "id": "6279d231",
   "metadata": {},
   "outputs": [
    {
     "name": "stderr",
     "output_type": "stream",
     "text": [
      "/home/sia1/刘朋杰/dualAE_Automl/DsaPAML/MetaFeaturesCalculation_copy.py:678: RuntimeWarning: Mean of empty slice\n",
      "  mean = np.nanmean(values)\n",
      "/home/sia1/anaconda3/envs/jieg/lib/python3.8/site-packages/numpy/lib/nanfunctions.py:1670: RuntimeWarning: Degrees of freedom <= 0 for slice.\n",
      "  var = nanvar(a, axis=axis, dtype=dtype, out=out, ddof=ddof,\n",
      "/home/sia1/刘朋杰/dualAE_Automl/DsaPAML/AutoML_fea_recd.py:224: VisibleDeprecationWarning: Creating an ndarray from ragged nested sequences (which is a list-or-tuple of lists-or-tuples-or ndarrays with different lengths or shapes) is deprecated. If you meant to do this, you must specify 'dtype=object' when creating the ndarray.\n",
      "  all_results = np.array([\n",
      "/home/sia1/刘朋杰/dualAE_Automl/DsaPAML/AutoML_fea_recd.py:282: VisibleDeprecationWarning: Creating an ndarray from ragged nested sequences (which is a list-or-tuple of lists-or-tuples-or ndarrays with different lengths or shapes) is deprecated. If you meant to do this, you must specify 'dtype=object' when creating the ndarray.\n",
      "  res_ = np.array(res_)[c]\n",
      "/home/sia1/刘朋杰/dualAE_Automl/DsaPAML/mlxtend1/classifier/stacking_classification.py:163: UserWarning: fit_base_estimators=False enforces use_clones to be `False`\n",
      "  warnings.warn(\"fit_base_estimators=False \"\n"
     ]
    },
    {
     "name": "stdout",
     "output_type": "stream",
     "text": [
      "Runtime:  35.73282286099857\n",
      "Accuracy score:  0.8967551622418879\n"
     ]
    }
   ],
   "source": [
    "# 设置软件参数\n",
    "clf = aml.Automl(N=100, # 为测试数据集推荐的模型个数(默认：200，建议N>=50)\n",
    "                 verbose=False, # 是否显示软件运行的中间结果 (可选：True,False；默认：False)\n",
    "                 time_per_model=360, # 训练单个模型管道的时间上限（默认：360（秒））              \n",
    "                 N_jobs=-1, # 并行运行的CPU核数 (默认：-1（表示使用机器所有CPU核）)\n",
    "                 system='linux'# 系统型号（可选：'linux','windows','mac'；默认：'linux'）\n",
    "                )\n",
    "# 读取待测数据集并分裂训练集和测试集\n",
    "publishing_data = pd.read_csv(\n",
    "    '/media/sia1/Elements SE/AutoML测试数据集/DataSets/publishing_data.csv',\n",
    "    sep=',',\n",
    "    header=None)\n",
    "X, y = publishing_data.iloc[:, :9], publishing_data.iloc[:, 9]\n",
    "X_train, X_test, y_train, y_test = train_test_split(X, y, random_state=42)\n",
    "# 模型的训练和预测\n",
    "t0 = time.perf_counter() # 记录训练和测试全过程的时间\n",
    "clf.fit(X_train, y_train) # 模型的训练\n",
    "y_hat = clf.predict(X_test) # 模型的预测\n",
    "print(\"Runtime: \", time.perf_counter() - t0) # 打印时间开销\n",
    "print(\"Accuracy score: \", accuracy_score(y_test, y_hat)) # 打印测试集上的准确率"
   ]
  },
  {
   "cell_type": "code",
   "execution_count": 11,
   "id": "0e0fb293",
   "metadata": {},
   "outputs": [
    {
     "data": {
      "text/plain": [
       "'/media/sia1/Elements SE/AutoML测试数据集/DataSets'"
      ]
     },
     "execution_count": 11,
     "metadata": {},
     "output_type": "execute_result"
    }
   ],
   "source": [
    "a='/media/sia1/Elements SE/AutoML测试数据集/DataSets/publishing_data.csv'\n",
    "'/'.join(a.split('/')[:-1]) "
   ]
  },
  {
   "cell_type": "code",
   "execution_count": 31,
   "id": "19e8aa6e",
   "metadata": {},
   "outputs": [],
   "source": [
    "publishing_data = pd.read_csv(\n",
    "    '/media/sia1/Elements SE/AutoML测试数据集/DataSets/publishing_data.csv',\n",
    "    sep=',',\n",
    "    header=None)\n",
    "X, y = publishing_data.iloc[:, :9], publishing_data.iloc[:, 9]\n",
    "X_train, X_test, y_train, y_test = train_test_split(X, y, random_state=42)"
   ]
  },
  {
   "cell_type": "code",
   "execution_count": 32,
   "id": "f56320aa",
   "metadata": {},
   "outputs": [],
   "source": [
    "X_train.to_csv(\"/home/sia1/刘朋杰/dualAE_Automl/AutoML_Software/Test_Datasets/X_train.csv\",header=0,index=0)\n",
    "X_test.to_csv(\"/home/sia1/刘朋杰/dualAE_Automl/AutoML_Software/Test_Datasets/X_test.csv\",header=0,index=0)\n",
    "y_train.to_csv(\"/home/sia1/刘朋杰/dualAE_Automl/AutoML_Software/Test_Datasets/y_train.csv\",header=0,index=0)\n",
    "y_test.to_csv(\"/home/sia1/刘朋杰/dualAE_Automl/AutoML_Software/Test_Datasets/y_test.csv\",header=0,index=0)"
   ]
  },
  {
   "cell_type": "code",
   "execution_count": 33,
   "id": "7b0799ed",
   "metadata": {},
   "outputs": [
    {
     "data": {
      "text/html": [
       "<div>\n",
       "<style scoped>\n",
       "    .dataframe tbody tr th:only-of-type {\n",
       "        vertical-align: middle;\n",
       "    }\n",
       "\n",
       "    .dataframe tbody tr th {\n",
       "        vertical-align: top;\n",
       "    }\n",
       "\n",
       "    .dataframe thead th {\n",
       "        text-align: right;\n",
       "    }\n",
       "</style>\n",
       "<table border=\"1\" class=\"dataframe\">\n",
       "  <thead>\n",
       "    <tr style=\"text-align: right;\">\n",
       "      <th></th>\n",
       "      <th>0</th>\n",
       "      <th>1</th>\n",
       "      <th>2</th>\n",
       "      <th>3</th>\n",
       "      <th>4</th>\n",
       "      <th>5</th>\n",
       "      <th>6</th>\n",
       "      <th>7</th>\n",
       "      <th>8</th>\n",
       "    </tr>\n",
       "  </thead>\n",
       "  <tbody>\n",
       "    <tr>\n",
       "      <th>0</th>\n",
       "      <td>0</td>\n",
       "      <td>-1</td>\n",
       "      <td>0</td>\n",
       "      <td>0</td>\n",
       "      <td>0</td>\n",
       "      <td>-1</td>\n",
       "      <td>0</td>\n",
       "      <td>1</td>\n",
       "      <td>0</td>\n",
       "    </tr>\n",
       "    <tr>\n",
       "      <th>1</th>\n",
       "      <td>-1</td>\n",
       "      <td>-1</td>\n",
       "      <td>-1</td>\n",
       "      <td>-1</td>\n",
       "      <td>-1</td>\n",
       "      <td>-1</td>\n",
       "      <td>0</td>\n",
       "      <td>1</td>\n",
       "      <td>0</td>\n",
       "    </tr>\n",
       "    <tr>\n",
       "      <th>2</th>\n",
       "      <td>1</td>\n",
       "      <td>0</td>\n",
       "      <td>1</td>\n",
       "      <td>1</td>\n",
       "      <td>1</td>\n",
       "      <td>0</td>\n",
       "      <td>0</td>\n",
       "      <td>1</td>\n",
       "      <td>0</td>\n",
       "    </tr>\n",
       "    <tr>\n",
       "      <th>3</th>\n",
       "      <td>-1</td>\n",
       "      <td>0</td>\n",
       "      <td>0</td>\n",
       "      <td>-1</td>\n",
       "      <td>-1</td>\n",
       "      <td>0</td>\n",
       "      <td>-1</td>\n",
       "      <td>1</td>\n",
       "      <td>0</td>\n",
       "    </tr>\n",
       "    <tr>\n",
       "      <th>4</th>\n",
       "      <td>-1</td>\n",
       "      <td>0</td>\n",
       "      <td>-1</td>\n",
       "      <td>1</td>\n",
       "      <td>1</td>\n",
       "      <td>0</td>\n",
       "      <td>0</td>\n",
       "      <td>1</td>\n",
       "      <td>0</td>\n",
       "    </tr>\n",
       "    <tr>\n",
       "      <th>...</th>\n",
       "      <td>...</td>\n",
       "      <td>...</td>\n",
       "      <td>...</td>\n",
       "      <td>...</td>\n",
       "      <td>...</td>\n",
       "      <td>...</td>\n",
       "      <td>...</td>\n",
       "      <td>...</td>\n",
       "      <td>...</td>\n",
       "    </tr>\n",
       "    <tr>\n",
       "      <th>1009</th>\n",
       "      <td>1</td>\n",
       "      <td>0</td>\n",
       "      <td>1</td>\n",
       "      <td>1</td>\n",
       "      <td>0</td>\n",
       "      <td>0</td>\n",
       "      <td>1</td>\n",
       "      <td>1</td>\n",
       "      <td>0</td>\n",
       "    </tr>\n",
       "    <tr>\n",
       "      <th>1010</th>\n",
       "      <td>1</td>\n",
       "      <td>0</td>\n",
       "      <td>1</td>\n",
       "      <td>0</td>\n",
       "      <td>-1</td>\n",
       "      <td>1</td>\n",
       "      <td>1</td>\n",
       "      <td>-1</td>\n",
       "      <td>0</td>\n",
       "    </tr>\n",
       "    <tr>\n",
       "      <th>1011</th>\n",
       "      <td>-1</td>\n",
       "      <td>-1</td>\n",
       "      <td>-1</td>\n",
       "      <td>0</td>\n",
       "      <td>-1</td>\n",
       "      <td>0</td>\n",
       "      <td>1</td>\n",
       "      <td>1</td>\n",
       "      <td>0</td>\n",
       "    </tr>\n",
       "    <tr>\n",
       "      <th>1012</th>\n",
       "      <td>-1</td>\n",
       "      <td>-1</td>\n",
       "      <td>-1</td>\n",
       "      <td>0</td>\n",
       "      <td>-1</td>\n",
       "      <td>0</td>\n",
       "      <td>0</td>\n",
       "      <td>1</td>\n",
       "      <td>0</td>\n",
       "    </tr>\n",
       "    <tr>\n",
       "      <th>1013</th>\n",
       "      <td>1</td>\n",
       "      <td>-1</td>\n",
       "      <td>1</td>\n",
       "      <td>-1</td>\n",
       "      <td>0</td>\n",
       "      <td>1</td>\n",
       "      <td>-1</td>\n",
       "      <td>-1</td>\n",
       "      <td>0</td>\n",
       "    </tr>\n",
       "  </tbody>\n",
       "</table>\n",
       "<p>1014 rows × 9 columns</p>\n",
       "</div>"
      ],
      "text/plain": [
       "      0  1  2  3  4  5  6  7  8\n",
       "0     0 -1  0  0  0 -1  0  1  0\n",
       "1    -1 -1 -1 -1 -1 -1  0  1  0\n",
       "2     1  0  1  1  1  0  0  1  0\n",
       "3    -1  0  0 -1 -1  0 -1  1  0\n",
       "4    -1  0 -1  1  1  0  0  1  0\n",
       "...  .. .. .. .. .. .. .. .. ..\n",
       "1009  1  0  1  1  0  0  1  1  0\n",
       "1010  1  0  1  0 -1  1  1 -1  0\n",
       "1011 -1 -1 -1  0 -1  0  1  1  0\n",
       "1012 -1 -1 -1  0 -1  0  0  1  0\n",
       "1013  1 -1  1 -1  0  1 -1 -1  0\n",
       "\n",
       "[1014 rows x 9 columns]"
      ]
     },
     "execution_count": 33,
     "metadata": {},
     "output_type": "execute_result"
    }
   ],
   "source": [
    "X_train = pd.read_csv(\n",
    "    '/home/sia1/刘朋杰/dualAE_Automl/AutoML_Software/Test_Datasets/X_train.csv',\n",
    "    sep=',',\n",
    "    header=None)\n",
    "X_train"
   ]
  },
  {
   "cell_type": "code",
   "execution_count": 3,
   "id": "dcf94629",
   "metadata": {},
   "outputs": [
    {
     "name": "stderr",
     "output_type": "stream",
     "text": [
      "/home/sia1/刘朋杰/dualAE_Automl/DsaPAML/MetaFeaturesCalculation_copy.py:678: RuntimeWarning: Mean of empty slice\n",
      "  mean = np.nanmean(values)\n",
      "/home/sia1/anaconda3/envs/jieg/lib/python3.8/site-packages/numpy/lib/nanfunctions.py:1670: RuntimeWarning: Degrees of freedom <= 0 for slice.\n",
      "  var = nanvar(a, axis=axis, dtype=dtype, out=out, ddof=ddof,\n",
      "/home/sia1/anaconda3/envs/jieg/lib/python3.8/site-packages/sklearn/feature_selection/_rfe.py:196: DataConversionWarning: A column-vector y was passed when a 1d array was expected. Please change the shape of y to (n_samples,), for example using ravel().\n",
      "  estimator.fit(X[:, features], y)\n",
      "/home/sia1/anaconda3/envs/jieg/lib/python3.8/site-packages/sklearn/feature_selection/_rfe.py:196: DataConversionWarning: A column-vector y was passed when a 1d array was expected. Please change the shape of y to (n_samples,), for example using ravel().\n",
      "  estimator.fit(X[:, features], y)\n",
      "/home/sia1/anaconda3/envs/jieg/lib/python3.8/site-packages/sklearn/feature_selection/_rfe.py:196: DataConversionWarning: A column-vector y was passed when a 1d array was expected. Please change the shape of y to (n_samples,), for example using ravel().\n",
      "  estimator.fit(X[:, features], y)\n",
      "/home/sia1/anaconda3/envs/jieg/lib/python3.8/site-packages/sklearn/feature_selection/_rfe.py:196: DataConversionWarning: A column-vector y was passed when a 1d array was expected. Please change the shape of y to (n_samples,), for example using ravel().\n",
      "  estimator.fit(X[:, features], y)\n",
      "/home/sia1/anaconda3/envs/jieg/lib/python3.8/site-packages/sklearn/feature_selection/_rfe.py:196: DataConversionWarning: A column-vector y was passed when a 1d array was expected. Please change the shape of y to (n_samples,), for example using ravel().\n",
      "  estimator.fit(X[:, features], y)\n",
      "/home/sia1/anaconda3/envs/jieg/lib/python3.8/site-packages/sklearn/feature_selection/_rfe.py:196: DataConversionWarning: A column-vector y was passed when a 1d array was expected. Please change the shape of y to (n_samples,), for example using ravel().\n",
      "  estimator.fit(X[:, features], y)\n",
      "/home/sia1/anaconda3/envs/jieg/lib/python3.8/site-packages/sklearn/feature_selection/_rfe.py:196: DataConversionWarning: A column-vector y was passed when a 1d array was expected. Please change the shape of y to (n_samples,), for example using ravel().\n",
      "  estimator.fit(X[:, features], y)\n",
      "/home/sia1/anaconda3/envs/jieg/lib/python3.8/site-packages/sklearn/feature_selection/_rfe.py:196: DataConversionWarning: A column-vector y was passed when a 1d array was expected. Please change the shape of y to (n_samples,), for example using ravel().\n",
      "  estimator.fit(X[:, features], y)\n",
      "/home/sia1/anaconda3/envs/jieg/lib/python3.8/site-packages/sklearn/feature_selection/_rfe.py:196: DataConversionWarning: A column-vector y was passed when a 1d array was expected. Please change the shape of y to (n_samples,), for example using ravel().\n",
      "  estimator.fit(X[:, features], y)\n",
      "/home/sia1/anaconda3/envs/jieg/lib/python3.8/site-packages/sklearn/feature_selection/_rfe.py:231: DataConversionWarning: A column-vector y was passed when a 1d array was expected. Please change the shape of y to (n_samples,), for example using ravel().\n",
      "  self.estimator_.fit(X[:, features], y)\n",
      "/home/sia1/anaconda3/envs/jieg/lib/python3.8/site-packages/sklearn/feature_selection/_rfe.py:573: DataConversionWarning: A column-vector y was passed when a 1d array was expected. Please change the shape of y to (n_samples,), for example using ravel().\n",
      "  self.estimator_.fit(self.transform(X), y)\n",
      "/home/sia1/刘朋杰/dualAE_Automl/DsaPAML/AutoML_fea_recd.py:224: VisibleDeprecationWarning: Creating an ndarray from ragged nested sequences (which is a list-or-tuple of lists-or-tuples-or ndarrays with different lengths or shapes) is deprecated. If you meant to do this, you must specify 'dtype=object' when creating the ndarray.\n",
      "  all_results = np.array([\n",
      "/home/sia1/刘朋杰/dualAE_Automl/DsaPAML/AutoML_fea_recd.py:282: VisibleDeprecationWarning: Creating an ndarray from ragged nested sequences (which is a list-or-tuple of lists-or-tuples-or ndarrays with different lengths or shapes) is deprecated. If you meant to do this, you must specify 'dtype=object' when creating the ndarray.\n",
      "  res_ = np.array(res_)[c]\n",
      "/home/sia1/刘朋杰/dualAE_Automl/DsaPAML/mlxtend1/classifier/stacking_classification.py:163: UserWarning: fit_base_estimators=False enforces use_clones to be `False`\n",
      "  warnings.warn(\"fit_base_estimators=False \"\n",
      "/home/sia1/刘朋杰/dualAE_Automl/DsaPAML/mlxtend1/classifier/stacking_classification.py:246: DataConversionWarning: A column-vector y was passed when a 1d array was expected. Please change the shape of y to (n_samples,), for example using ravel().\n",
      "  self.meta_clf_.fit(meta_features, y)\n"
     ]
    },
    {
     "name": "stdout",
     "output_type": "stream",
     "text": [
      "Runtime:  35.56537483399734\n"
     ]
    }
   ],
   "source": [
    "X_train = pd.read_csv(\n",
    "    '/home/sia1/刘朋杰/dualAE_Automl/AutoML_Software/Test_Datasets/X_train.csv',\n",
    "    sep=',',\n",
    "    header=None)\n",
    "X_test = pd.read_csv(\n",
    "    '/home/sia1/刘朋杰/dualAE_Automl/AutoML_Software/Test_Datasets/X_test.csv',\n",
    "    sep=',',\n",
    "    header=None)\n",
    "y_train = pd.read_csv(\n",
    "    '/home/sia1/刘朋杰/dualAE_Automl/AutoML_Software/Test_Datasets/y_train.csv',\n",
    "    sep=',',\n",
    "    header=None)\n",
    "clf = aml.Automl(N=100, # 为测试数据集推荐的模型个数(默认：200，建议N>=50)\n",
    "                 verbose=False, # 是否显示软件运行的中间结果 (可选：True,False；默认：False)\n",
    "                 time_per_model=360, # 训练单个模型管道的时间上限（默认：360（秒））              \n",
    "                 N_jobs=-1, # 并行运行的CPU核数 (默认：-1（表示使用机器所有CPU核）)\n",
    "                 system='linux'# 系统型号（可选：'linux','windows','mac'；默认：'linux'）\n",
    "                )\n",
    "t0 = time.perf_counter() # 记录训练和测试全过程的时间\n",
    "clf.fit(X_train, y_train) # 模型的训练\n",
    "y_hat = clf.predict(X_test) # 模型的预测\n",
    "print(\"Runtime: \", time.perf_counter() - t0) # 打印时间开销\n",
    "#print(\"Accuracy score: \", accuracy_score(y_test, y_hat)) # 打印测试集上的准确率"
   ]
  },
  {
   "cell_type": "code",
   "execution_count": null,
   "id": "86ae2a3b",
   "metadata": {},
   "outputs": [],
   "source": []
  }
 ],
 "metadata": {
  "kernelspec": {
   "display_name": "Python 3",
   "language": "python",
   "name": "python3"
  },
  "language_info": {
   "codemirror_mode": {
    "name": "ipython",
    "version": 3
   },
   "file_extension": ".py",
   "mimetype": "text/x-python",
   "name": "python",
   "nbconvert_exporter": "python",
   "pygments_lexer": "ipython3",
   "version": "3.8.8"
  },
  "varInspector": {
   "cols": {
    "lenName": 16,
    "lenType": 16,
    "lenVar": 40
   },
   "kernels_config": {
    "python": {
     "delete_cmd_postfix": "",
     "delete_cmd_prefix": "del ",
     "library": "var_list.py",
     "varRefreshCmd": "print(var_dic_list())"
    },
    "r": {
     "delete_cmd_postfix": ") ",
     "delete_cmd_prefix": "rm(",
     "library": "var_list.r",
     "varRefreshCmd": "cat(var_dic_list()) "
    }
   },
   "types_to_exclude": [
    "module",
    "function",
    "builtin_function_or_method",
    "instance",
    "_Feature"
   ],
   "window_display": false
  }
 },
 "nbformat": 4,
 "nbformat_minor": 5
}
